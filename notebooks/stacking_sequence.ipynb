{
 "cells": [
  {
   "cell_type": "code",
   "execution_count": 1,
   "metadata": {},
   "outputs": [],
   "source": [
    "import random\n",
    "import numpy as np\n",
    "import argparse\n",
    "from itertools import groupby"
   ]
  },
  {
   "cell_type": "code",
   "execution_count": 2,
   "metadata": {},
   "outputs": [],
   "source": [
    "NUM_PLIES =16\n",
    "MUTATION_RATE=.1\n",
    "POP_SIZE = 100\n",
    "NUM_ITERATIONS=1000"
   ]
  },
  {
   "cell_type": "code",
   "execution_count": 3,
   "metadata": {},
   "outputs": [],
   "source": [
    "# Fitness function\n",
    "def fitness(seq):\n",
    "    # 1. Use balanced and symmetric layups\n",
    "    num_45deg_upper = sum(ply[1] == 1 for ply in seq[:NUM_PLIES//2])\n",
    "    num_45deg_lower = sum(ply[1] == 2 for ply in seq[NUM_PLIES//2:])\n",
    "    if num_45deg_upper != num_45deg_lower:\n",
    "        return float('-inf')\n",
    "    \n",
    "    # 2. Intersperse ply orientations\n",
    "    num_0deg = sum(ply[1] == 0 for ply in seq)\n",
    "    num_45deg = sum(ply[1] == 1 or ply[1] == 2 for ply in seq)\n",
    "    num_90deg = sum(ply[1] == 3 for ply in seq)\n",
    "    if num_0deg < NUM_PLIES//10 or num_45deg < NUM_PLIES//10 or num_90deg < NUM_PLIES//10:\n",
    "        return float('-inf')\n",
    "\n",
    "    # 3. Minimize groupings of plies with the same orientation\n",
    "    group_lengths = [len(list(group)) for key, group in groupby(seq, key=lambda ply: ply[1])]\n",
    "    if max(group_lengths) > 1:\n",
    "        return float('-inf')\n",
    "\n",
    "    # 4. Alternate +θ° and -θ° plies except for the closest ply on either side of the mid-plane\n",
    "    if seq[NUM_PLIES//2-1][1] == seq[NUM_PLIES//2][1] or seq[NUM_PLIES//2][1] == seq[NUM_PLIES//2+1][1]:\n",
    "        return float('-inf')\n",
    "    for i in range(NUM_PLIES-3):\n",
    "        if seq[i][1] == seq[i+1][1] and seq[i+1][1] == seq[i+2][1]:\n",
    "            return float('-inf')\n",
    "\n",
    "    # 5. Separate groups of same orientation by 45° plies (e.g, tape plies of 90° apart by at least one ply of 45° apart)\n",
    "    for i in range(NUM_PLIES-2):\n",
    "        if seq[i][1] == seq[i+1][1] == seq[i+2][1]:\n",
    "            if seq[i][1] == 3:\n",
    "                if i == NUM_PLIES//2-2:\n",
    "                    if seq[i+3][1] == 1 or seq[i+3][1] == 2:\n",
    "                        return float('-inf')\n",
    "                elif i == NUM_PLIES//2-1:\n",
    "                    if seq[i-1][1] == 1 or seq[i-1][1] == 2 or seq[i+2][1] == 1 or seq[i+2][1] == 2:\n",
    "                        return float('-inf')\n",
    "                elif i == NUM_PLIES//2:\n",
    "                    if seq[i-2][1] == 1 or seq[i-2][1] == 2 or seq[i+1][1] == 1 or seq[i+1][1] == 2:\n",
    "                        return float('-inf')\n",
    "                    \n",
    "    # 6. 10% design rule\n",
    "    orientations = [0, 0, 0, 0] # count of 0°, 45°, -45°, 90°\n",
    "    for i in range(NUM_PLIES):\n",
    "        orientations[seq[i][1]] += 1\n",
    "        if min(orientations) < NUM_PLIES * 0.1:\n",
    "            return float('-inf')\n",
    "               \n",
    "    # 7. At a free edge, do not locate tape plies with fibers orientated perpendicular to the edge\n",
    "    if seq[0][1] == 3 or seq[NUM_PLIES-1][1] == 3:\n",
    "        if seq[NUM_PLIES//2][1] == 1 or seq[NUM_PLIES//2][1] == 2:\n",
    "            return float('-inf')\n",
    "        \n",
    "    # 8. Locate tape plies with fibers oriented in the primary load direction such that there is a least three plies between them and the laminate surface.\n",
    "    for i in range(NUM_PLIES):\n",
    "        if seq[i][1] == 0:\n",
    "            if i < 3 or i > NUM_PLIES - 4:\n",
    "                return float('-inf')\n",
    "            if seq[i-1][1] != 45 or seq[i-2][1] != -45 or seq[i-3][1] != 45:\n",
    "                return float('-inf')\n",
    "            if seq[i+1][1] != 45 or seq[i+2][1] != -45 or seq[i+3][1] != 45:\n",
    "                return float('-inf')\n",
    "    return sum(ply[0] for ply in seq)  # return the sum"
   ]
  },
  {
   "cell_type": "code",
   "execution_count": 4,
   "metadata": {},
   "outputs": [],
   "source": [
    "# Mutation function\n",
    "def mutate(seq):\n",
    "    for i in range(NUM_PLIES):\n",
    "        if random.random() < MUTATION_RATE:\n",
    "            seq[i] = (random.uniform(0, 1), seq[i][1])\n",
    "    return seq"
   ]
  },
  {
   "cell_type": "code",
   "execution_count": 5,
   "metadata": {},
   "outputs": [],
   "source": [
    "def select_parents(population, fitnesses):\n",
    "    total_fitness = sum(fitnesses)\n",
    "    probs = [fit/total_fitness for fit in fitnesses]\n",
    "    parent1_idx = random.choices(range(POP_SIZE), weights=probs)[0]\n",
    "    parent2_idx = random.choices(range(POP_SIZE), weights=probs)[0]\n",
    "    return population[parent1_idx], population[parent2_idx]"
   ]
  },
  {
   "cell_type": "code",
   "execution_count": 6,
   "metadata": {},
   "outputs": [],
   "source": [
    "# Crossover function\n",
    "def crossover(parent1, parent2):\n",
    "    # Choose a random midpoint\n",
    "    midpoint = random.randint(1, NUM_PLIES-1)\n",
    "    # Swap the sub-sequences\n",
    "    child1 = parent1[:midpoint] + parent2[midpoint:]\n",
    "    child2 = parent2[:midpoint] + parent1[midpoint:]\n",
    "    return child1, child2"
   ]
  },
  {
   "cell_type": "code",
   "execution_count": 7,
   "metadata": {},
   "outputs": [],
   "source": [
    "# Generate the initial stacking sequence population\n",
    "def generate_initial_population():\n",
    "    population = []\n",
    "    for i in range(POP_SIZE):\n",
    "        seq = []\n",
    "        for j in range(NUM_PLIES):\n",
    "            ply = (random.uniform(0, 1), j % 4)\n",
    "            seq.append(ply)\n",
    "        population.append(seq)\n",
    "    return population"
   ]
  },
  {
   "cell_type": "code",
   "execution_count": 9,
   "metadata": {},
   "outputs": [],
   "source": [
    "# Find the best stacking sequence\n",
    "def genetic_algorithm():\n",
    "    population = generate_initial_population()\n",
    "    for i in range(NUM_ITERATIONS):\n",
    "        fitnesses = [fitness(seq) for seq in population]\n",
    "        best_fitness = max(fitnesses)\n",
    "        best_seq = population[fitnesses.index(best_fitness)]\n",
    "        print(f'Generation {i+1}: Best Fitness = {best_fitness:.2f}')\n",
    "\n",
    "        next_population = [best_seq]\n",
    "        for j in range(POP_SIZE-1):\n",
    "            parent1, parent2 = select_parents(population, fitnesses)\n",
    "            child = crossover(parent1, parent2)\n",
    "            child = mutate(child)\n",
    "            next_population.append(child)\n",
    "        population = next_population\n",
    "\n",
    "    return best_seq"
   ]
  },
  {
   "cell_type": "code",
   "execution_count": 10,
   "metadata": {},
   "outputs": [
    {
     "name": "stdout",
     "output_type": "stream",
     "text": [
      "Generation 1: Best Fitness = -inf\n"
     ]
    },
    {
     "ename": "ValueError",
     "evalue": "Total of weights must be finite",
     "output_type": "error",
     "traceback": [
      "\u001b[1;31m---------------------------------------------------------------------------\u001b[0m",
      "\u001b[1;31mValueError\u001b[0m                                Traceback (most recent call last)",
      "Cell \u001b[1;32mIn[10], line 1\u001b[0m\n\u001b[1;32m----> 1\u001b[0m best_seq \u001b[39m=\u001b[39m genetic_algorithm()\n\u001b[0;32m      2\u001b[0m \u001b[39mprint\u001b[39m(\u001b[39m'\u001b[39m\u001b[39mBest Sequence:\u001b[39m\u001b[39m'\u001b[39m, best_seq)\n",
      "Cell \u001b[1;32mIn[9], line 12\u001b[0m, in \u001b[0;36mgenetic_algorithm\u001b[1;34m()\u001b[0m\n\u001b[0;32m     10\u001b[0m next_population \u001b[39m=\u001b[39m [best_seq]\n\u001b[0;32m     11\u001b[0m \u001b[39mfor\u001b[39;00m j \u001b[39min\u001b[39;00m \u001b[39mrange\u001b[39m(POP_SIZE\u001b[39m-\u001b[39m\u001b[39m1\u001b[39m):\n\u001b[1;32m---> 12\u001b[0m     parent1, parent2 \u001b[39m=\u001b[39m select_parents(population, fitnesses)\n\u001b[0;32m     13\u001b[0m     child \u001b[39m=\u001b[39m crossover(parent1, parent2)\n\u001b[0;32m     14\u001b[0m     child \u001b[39m=\u001b[39m mutate(child)\n",
      "Cell \u001b[1;32mIn[5], line 4\u001b[0m, in \u001b[0;36mselect_parents\u001b[1;34m(population, fitnesses)\u001b[0m\n\u001b[0;32m      2\u001b[0m total_fitness \u001b[39m=\u001b[39m \u001b[39msum\u001b[39m(fitnesses)\n\u001b[0;32m      3\u001b[0m probs \u001b[39m=\u001b[39m [fit\u001b[39m/\u001b[39mtotal_fitness \u001b[39mfor\u001b[39;00m fit \u001b[39min\u001b[39;00m fitnesses]\n\u001b[1;32m----> 4\u001b[0m parent1_idx \u001b[39m=\u001b[39m random\u001b[39m.\u001b[39;49mchoices(\u001b[39mrange\u001b[39;49m(POP_SIZE), weights\u001b[39m=\u001b[39;49mprobs)[\u001b[39m0\u001b[39m]\n\u001b[0;32m      5\u001b[0m parent2_idx \u001b[39m=\u001b[39m random\u001b[39m.\u001b[39mchoices(\u001b[39mrange\u001b[39m(POP_SIZE), weights\u001b[39m=\u001b[39mprobs)[\u001b[39m0\u001b[39m]\n\u001b[0;32m      6\u001b[0m \u001b[39mreturn\u001b[39;00m population[parent1_idx], population[parent2_idx]\n",
      "File \u001b[1;32mc:\\Users\\franc\\Anaconda3\\envs\\PyPly\\lib\\random.py:537\u001b[0m, in \u001b[0;36mRandom.choices\u001b[1;34m(self, population, weights, cum_weights, k)\u001b[0m\n\u001b[0;32m    535\u001b[0m     \u001b[39mraise\u001b[39;00m \u001b[39mValueError\u001b[39;00m(\u001b[39m'\u001b[39m\u001b[39mTotal of weights must be greater than zero\u001b[39m\u001b[39m'\u001b[39m)\n\u001b[0;32m    536\u001b[0m \u001b[39mif\u001b[39;00m \u001b[39mnot\u001b[39;00m _isfinite(total):\n\u001b[1;32m--> 537\u001b[0m     \u001b[39mraise\u001b[39;00m \u001b[39mValueError\u001b[39;00m(\u001b[39m'\u001b[39m\u001b[39mTotal of weights must be finite\u001b[39m\u001b[39m'\u001b[39m)\n\u001b[0;32m    538\u001b[0m bisect \u001b[39m=\u001b[39m _bisect\n\u001b[0;32m    539\u001b[0m hi \u001b[39m=\u001b[39m n \u001b[39m-\u001b[39m \u001b[39m1\u001b[39m\n",
      "\u001b[1;31mValueError\u001b[0m: Total of weights must be finite"
     ]
    }
   ],
   "source": [
    "best_seq = genetic_algorithm()\n",
    "print('Best Sequence:', best_seq)"
   ]
  }
 ],
 "metadata": {
  "kernelspec": {
   "display_name": "PyPly",
   "language": "python",
   "name": "python3"
  },
  "language_info": {
   "codemirror_mode": {
    "name": "ipython",
    "version": 3
   },
   "file_extension": ".py",
   "mimetype": "text/x-python",
   "name": "python",
   "nbconvert_exporter": "python",
   "pygments_lexer": "ipython3",
   "version": "3.10.9"
  },
  "orig_nbformat": 4,
  "vscode": {
   "interpreter": {
    "hash": "a9bcae0af42d0ab1a27847b6f5f25cc77d23c556a1028bd05a9a4e0592be2ade"
   }
  }
 },
 "nbformat": 4,
 "nbformat_minor": 2
}

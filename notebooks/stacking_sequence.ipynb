{
 "cells": [
  {
   "cell_type": "code",
   "execution_count": 6,
   "metadata": {},
   "outputs": [],
   "source": [
    "import numpy as np\n",
    "import random\n",
    "import copy"
   ]
  },
  {
   "cell_type": "code",
   "execution_count": 18,
   "metadata": {},
   "outputs": [],
   "source": [
    "# Define the standard orientations\n",
    "orientations = [0, 45, -45, 90]"
   ]
  },
  {
   "cell_type": "code",
   "execution_count": 24,
   "metadata": {},
   "outputs": [],
   "source": [
    "def design_laminate(num_plies):\n",
    "    \"\"\"\n",
    "    Design a stacking sequence for a laminate with the given number of plies.\n",
    "    \"\"\"\n",
    "    # Initialize the stacking sequence with a random orientation\n",
    "    stack = [random.choice(orientations)]\n",
    "\n",
    "    # Add plies to the stacking sequence\n",
    "    for i in range(1, num_plies):\n",
    "        # Check if the previous ply is a tape ply\n",
    "        prev_tape = i % 2 == 0 or (i - 1) % 2 == 0\n",
    "\n",
    "        # Determine the allowed orientations for the next ply\n",
    "        allowed_orientations = orientations.copy()\n",
    "\n",
    "        # Rule 2: Use at least 10% of each standard orientation\n",
    "        for orientation in orientations:\n",
    "            if stack.count(orientation) >= 0.1*num_plies:\n",
    "                allowed_orientations.remove(orientation)\n",
    "\n",
    "        # Rule 3: Minimize groupings of plies with the same orientation\n",
    "        if stack.count(stack[-1]) >= 2:\n",
    "            if orientation in allowed_orientations:\n",
    "                allowed_orientations.remove(stack[-1])\n",
    "\n",
    "        # Rule 4: Do not locate tape plies with fibers perpendicular to a free edge\n",
    "        if i == num_plies-1 or i == num_plies-2:\n",
    "            if stack[-1] == 90:\n",
    "                allowed_orientations.remove(-90)\n",
    "            elif stack[-1] == -90:\n",
    "                allowed_orientations.remove(90)\n",
    "\n",
    "        # Rule 6: Alternate +45° and -45° plies except for the closest to the mid-plane\n",
    "        if (i-1) % 4 == 0 and i != num_plies-1:\n",
    "            allowed_orientations.remove(-stack[-1])\n",
    "\n",
    "        # Rule 7: Separate groups of same-oriented tape plies from 90° plies by 45° plies\n",
    "        if prev_tape and stack.count(stack[-1]) > 1:\n",
    "            for orientation in [45, -45]:\n",
    "                if orientation in allowed_orientations:\n",
    "                    allowed_orientations.remove(orientation)\n",
    "\n",
    "        # Rule 8: Locate 0° plies at least 3 plies from the outer surface\n",
    "        if len(stack) > 3 and stack[0] == stack[-1] == 0:\n",
    "            allowed_orientations.remove(0)\n",
    "\n",
    "        # Add the next ply to the stacking sequence\n",
    "        next_ply = random.choice(allowed_orientations)\n",
    "        stack.append(next_ply)\n",
    "\n",
    "    return stack"
   ]
  },
  {
   "cell_type": "code",
   "execution_count": 25,
   "metadata": {},
   "outputs": [
    {
     "ename": "ValueError",
     "evalue": "list.remove(x): x not in list",
     "output_type": "error",
     "traceback": [
      "\u001b[1;31m---------------------------------------------------------------------------\u001b[0m",
      "\u001b[1;31mValueError\u001b[0m                                Traceback (most recent call last)",
      "Cell \u001b[1;32mIn[25], line 1\u001b[0m\n\u001b[1;32m----> 1\u001b[0m stack \u001b[39m=\u001b[39m design_laminate(\u001b[39m16\u001b[39;49m)\n\u001b[0;32m      2\u001b[0m \u001b[39mprint\u001b[39m(stack)\n",
      "Cell \u001b[1;32mIn[24], line 24\u001b[0m, in \u001b[0;36mdesign_laminate\u001b[1;34m(num_plies)\u001b[0m\n\u001b[0;32m     22\u001b[0m \u001b[39mif\u001b[39;00m stack\u001b[39m.\u001b[39mcount(stack[\u001b[39m-\u001b[39m\u001b[39m1\u001b[39m]) \u001b[39m>\u001b[39m\u001b[39m=\u001b[39m \u001b[39m2\u001b[39m:\n\u001b[0;32m     23\u001b[0m     \u001b[39mif\u001b[39;00m orientation \u001b[39min\u001b[39;00m allowed_orientations:\n\u001b[1;32m---> 24\u001b[0m         allowed_orientations\u001b[39m.\u001b[39;49mremove(stack[\u001b[39m-\u001b[39;49m\u001b[39m1\u001b[39;49m])\n\u001b[0;32m     26\u001b[0m \u001b[39m# Rule 4: Do not locate tape plies with fibers perpendicular to a free edge\u001b[39;00m\n\u001b[0;32m     27\u001b[0m \u001b[39mif\u001b[39;00m i \u001b[39m==\u001b[39m num_plies\u001b[39m-\u001b[39m\u001b[39m1\u001b[39m \u001b[39mor\u001b[39;00m i \u001b[39m==\u001b[39m num_plies\u001b[39m-\u001b[39m\u001b[39m2\u001b[39m:\n",
      "\u001b[1;31mValueError\u001b[0m: list.remove(x): x not in list"
     ]
    }
   ],
   "source": [
    "stack = design_laminate(16)\n",
    "print(stack)"
   ]
  },
  {
   "cell_type": "code",
   "execution_count": 13,
   "metadata": {},
   "outputs": [],
   "source": [
    "def initial_stack(orient):\n",
    "    return [random.choice(orient)]"
   ]
  },
  {
   "cell_type": "code",
   "execution_count": 14,
   "metadata": {},
   "outputs": [],
   "source": [
    "def generate_sequences(stack, num_plies):\n",
    "    \"\"\"\n",
    "    Recursively generate all valid stacking sequences for the given number of plies.\n",
    "    \"\"\"\n",
    "    # Check if the desired number of plies has been reached\n",
    "    if len(stack) == num_plies:\n",
    "        return [stack]\n",
    "\n",
    "    # Determine the allowed orientations for the next ply\n",
    "    allowed_orientations = orientations.copy()\n",
    "\n",
    "    # Rule 2: Use at least 10% of each standard orientation\n",
    "    for orientation in orientations:\n",
    "        if stack.count(orientation) >= 0.1*num_plies:\n",
    "            allowed_orientations.remove(orientation)\n",
    "\n",
    "    # Rule 3: Minimize groupings of plies with the same orientation\n",
    "    if stack.count(stack[-1]) >= 2:\n",
    "        allowed_orientations.remove(stack[-1])\n",
    "\n",
    "    # Rule 4: Do not locate tape plies with fibers perpendicular to a free edge\n",
    "    if len(stack) >= num_plies-2:\n",
    "        if stack[-1] == 90:\n",
    "            allowed_orientations.remove(-90)\n",
    "        elif stack[-1] == -90:\n",
    "            allowed_orientations.remove(90)\n",
    "\n",
    "    # Rule 6: Alternate +45° and -45° plies except for the closest to the mid-plane\n",
    "    if (len(stack)-1) % 4 == 0 and len(stack) != num_plies-1:\n",
    "        allowed_orientations.remove(-stack[-1])\n",
    "\n",
    "    # Rule 7: Separate groups of same-oriented tape plies from 90° plies by 45° plies\n",
    "    prev_tape = len(stack) % 2 == 0 or (len(stack) - 1) % 2 == 0\n",
    "    if prev_tape and stack.count(stack[-1]) > 1:\n",
    "        for orientation in [45, -45]:\n",
    "            if orientation in allowed_orientations:\n",
    "                allowed_orientations.remove(orientation)\n",
    "\n",
    "    # Rule 8: Locate 0° plies at least 3 plies from the outer surface\n",
    "    if len(stack) > 3 and stack[0] == stack[-1] == 0:\n",
    "        allowed_orientations.remove(0)\n",
    "\n",
    "    # Generate all possible next plies and recursively call the function with each one\n",
    "    sequences = []\n",
    "    for orientation in allowed_orientations:\n",
    "        next_stack = copy.copy(stack)\n",
    "        next_stack.append(orientation)\n",
    "        sequences.extend(generate_sequences(next_stack, num_plies))\n",
    "\n",
    "    return sequences"
   ]
  },
  {
   "cell_type": "code",
   "execution_count": 20,
   "metadata": {},
   "outputs": [
    {
     "ename": "ValueError",
     "evalue": "list.remove(x): x not in list",
     "output_type": "error",
     "traceback": [
      "\u001b[1;31m---------------------------------------------------------------------------\u001b[0m",
      "\u001b[1;31mValueError\u001b[0m                                Traceback (most recent call last)",
      "Cell \u001b[1;32mIn[20], line 1\u001b[0m\n\u001b[1;32m----> 1\u001b[0m stacks \u001b[39m=\u001b[39m generate_sequences([\u001b[39m45\u001b[39;49m], \u001b[39m16\u001b[39;49m)\n\u001b[0;32m      2\u001b[0m \u001b[39mfor\u001b[39;00m stack \u001b[39min\u001b[39;00m stacks:\n\u001b[0;32m      3\u001b[0m     \u001b[39mprint\u001b[39m(stack)\n",
      "Cell \u001b[1;32mIn[14], line 48\u001b[0m, in \u001b[0;36mgenerate_sequences\u001b[1;34m(stack, num_plies)\u001b[0m\n\u001b[0;32m     46\u001b[0m     next_stack \u001b[39m=\u001b[39m copy\u001b[39m.\u001b[39mcopy(stack)\n\u001b[0;32m     47\u001b[0m     next_stack\u001b[39m.\u001b[39mappend(orientation)\n\u001b[1;32m---> 48\u001b[0m     sequences\u001b[39m.\u001b[39mextend(generate_sequences(next_stack, num_plies))\n\u001b[0;32m     50\u001b[0m \u001b[39mreturn\u001b[39;00m sequences\n",
      "Cell \u001b[1;32mIn[14], line 48\u001b[0m, in \u001b[0;36mgenerate_sequences\u001b[1;34m(stack, num_plies)\u001b[0m\n\u001b[0;32m     46\u001b[0m     next_stack \u001b[39m=\u001b[39m copy\u001b[39m.\u001b[39mcopy(stack)\n\u001b[0;32m     47\u001b[0m     next_stack\u001b[39m.\u001b[39mappend(orientation)\n\u001b[1;32m---> 48\u001b[0m     sequences\u001b[39m.\u001b[39mextend(generate_sequences(next_stack, num_plies))\n\u001b[0;32m     50\u001b[0m \u001b[39mreturn\u001b[39;00m sequences\n",
      "Cell \u001b[1;32mIn[14], line 19\u001b[0m, in \u001b[0;36mgenerate_sequences\u001b[1;34m(stack, num_plies)\u001b[0m\n\u001b[0;32m     17\u001b[0m \u001b[39m# Rule 3: Minimize groupings of plies with the same orientation\u001b[39;00m\n\u001b[0;32m     18\u001b[0m \u001b[39mif\u001b[39;00m stack\u001b[39m.\u001b[39mcount(stack[\u001b[39m-\u001b[39m\u001b[39m1\u001b[39m]) \u001b[39m>\u001b[39m\u001b[39m=\u001b[39m \u001b[39m2\u001b[39m:\n\u001b[1;32m---> 19\u001b[0m     allowed_orientations\u001b[39m.\u001b[39;49mremove(stack[\u001b[39m-\u001b[39;49m\u001b[39m1\u001b[39;49m])\n\u001b[0;32m     21\u001b[0m \u001b[39m# Rule 4: Do not locate tape plies with fibers perpendicular to a free edge\u001b[39;00m\n\u001b[0;32m     22\u001b[0m \u001b[39mif\u001b[39;00m \u001b[39mlen\u001b[39m(stack) \u001b[39m>\u001b[39m\u001b[39m=\u001b[39m num_plies\u001b[39m-\u001b[39m\u001b[39m2\u001b[39m:\n",
      "\u001b[1;31mValueError\u001b[0m: list.remove(x): x not in list"
     ]
    }
   ],
   "source": [
    "stacks = generate_sequences([45], 16)\n",
    "for stack in stacks:\n",
    "    print(stack)"
   ]
  }
 ],
 "metadata": {
  "kernelspec": {
   "display_name": "PyPly",
   "language": "python",
   "name": "python3"
  },
  "language_info": {
   "codemirror_mode": {
    "name": "ipython",
    "version": 3
   },
   "file_extension": ".py",
   "mimetype": "text/x-python",
   "name": "python",
   "nbconvert_exporter": "python",
   "pygments_lexer": "ipython3",
   "version": "3.10.9"
  },
  "orig_nbformat": 4,
  "vscode": {
   "interpreter": {
    "hash": "a9bcae0af42d0ab1a27847b6f5f25cc77d23c556a1028bd05a9a4e0592be2ade"
   }
  }
 },
 "nbformat": 4,
 "nbformat_minor": 2
}

{
 "cells": [
  {
   "cell_type": "code",
   "execution_count": 12,
   "metadata": {},
   "outputs": [],
   "source": [
    "import random\n",
    "import numpy as np\n",
    "import hashlib\n",
    "from datasketch import MinHash, MinHashLSH, MinHashLSHForest"
   ]
  },
  {
   "cell_type": "code",
   "execution_count": 1,
   "metadata": {},
   "outputs": [],
   "source": [
    "orientations =  [0, 45, -45, 90]\n",
    "NUM_PLIES=18\n",
    "POP_SIZE = 10000"
   ]
  },
  {
   "cell_type": "code",
   "execution_count": 3,
   "metadata": {},
   "outputs": [],
   "source": [
    "# Generate population function\n",
    "def generate_population2(num_plies, pop_size):\n",
    "    \n",
    "    population = []\n",
    "    for i in range(pop_size):\n",
    "        individual = [random.choice(orientations) for _ in range(num_plies)]\n",
    "        # Enforce symmetry constraints by flipping the orientation of the i-th ply\n",
    "        # if the (num_plies - i - 1)-th ply has the same orientation\n",
    "        for j in range(num_plies // 2):\n",
    "            if individual[j] == individual[num_plies - j - 1]:\n",
    "                individual[num_plies - j - 1] = random.choice(orientations)\n",
    "        population.append(individual)\n",
    "    return population"
   ]
  },
  {
   "cell_type": "code",
   "execution_count": 4,
   "metadata": {},
   "outputs": [],
   "source": [
    "def jaccard_distance(p1, p2, th):\n",
    "    set1=set(p1)\n",
    "    set2=set(p2)\n",
    "    hash1= hash(frozenset(set1))\n",
    "    hash2= hash(frozenset(set2))\n",
    "    if hash1 & hash2 and float(len(set1 & set2))/ len(set1|set2)>= th:\n",
    "        print(f'Populations are more than {(1-th)}% different')\n"
   ]
  },
  {
   "cell_type": "code",
   "execution_count": 5,
   "metadata": {},
   "outputs": [],
   "source": [
    "p1=generate_population2(18, POP_SIZE)"
   ]
  },
  {
   "cell_type": "code",
   "execution_count": 6,
   "metadata": {},
   "outputs": [],
   "source": [
    "p2=generate_population2(18, POP_SIZE)"
   ]
  },
  {
   "cell_type": "code",
   "execution_count": 7,
   "metadata": {},
   "outputs": [],
   "source": [
    "def HashMin(population):\n",
    "    minhash_seq=MinHash()\n",
    "    for sequence in population:\n",
    "        for orientation in sequence:\n",
    "            minhash_seq.update(str(orientation).encode('utf-8'))\n",
    "    return minhash_seq\n"
   ]
  },
  {
   "cell_type": "code",
   "execution_count": 13,
   "metadata": {},
   "outputs": [],
   "source": [
    "def JaccardSimilarity(pop_1, pop_2):\n",
    "    minhash1=HashMin(pop_1)\n",
    "    minhash2=HashMin(pop_2)\n",
    "    # Jaccard similarity between the two MinHash objects\n",
    "    jaccard_similarity = minhash1.jaccard(minhash2)\n",
    "\n",
    "    # Print the Jaccard similarity\n",
    "    print(f\"The Jaccard similarity between population 1 and population 2 is {jaccard_similarity}\")"
   ]
  },
  {
   "cell_type": "code",
   "execution_count": 14,
   "metadata": {},
   "outputs": [
    {
     "name": "stdout",
     "output_type": "stream",
     "text": [
      "The Jaccard similarity between population 1 and population 2 is 1.0\n"
     ]
    }
   ],
   "source": [
    "JaccardSimilarity(p1, p2)"
   ]
  },
  {
   "cell_type": "code",
   "execution_count": 15,
   "metadata": {},
   "outputs": [],
   "source": [
    "def LSH_index(pop_1, pop_2, th, n_perm):\n",
    "    minhash1=HashMin(pop_1)\n",
    "    minhash2=HashMin(pop_2)\n",
    "    # Initialize LSH index\n",
    "    lsh = MinHashLSH(threshold=th, num_perm=n_perm)\n",
    "\n",
    "    # Add minhash1 to the LSH index\n",
    "    lsh.insert(\"minhash1\", minhash1)\n",
    "\n",
    "    # Check if minhash2 is a near neighbor of any element in the LSH index\n",
    "    if lsh.query(minhash2):\n",
    "        print(\"The populations are similar.\")\n",
    "    else:\n",
    "        print(\"The populations are not similar.\")"
   ]
  },
  {
   "cell_type": "code",
   "execution_count": 16,
   "metadata": {},
   "outputs": [
    {
     "name": "stdout",
     "output_type": "stream",
     "text": [
      "The populations are similar.\n"
     ]
    }
   ],
   "source": [
    "LSH_index(p1, p2, .5, 128)"
   ]
  },
  {
   "cell_type": "code",
   "execution_count": 19,
   "metadata": {},
   "outputs": [],
   "source": [
    "def LSH_forest(pop_1, pop_2, n_perm):\n",
    "    minhash1=HashMin(pop_1)\n",
    "    minhash2=HashMin(pop_2)\n",
    "    # Initialize LSH Forest index\n",
    "    forest = MinHashLSHForest(num_perm=n_perm)\n",
    "\n",
    "    # Add minhash1 to the LSH Forest index\n",
    "    forest.add(\"minhash1\", minhash1)\n",
    "\n",
    "    # Index the LSH Forest\n",
    "    forest.index()\n",
    "\n",
    "    # Check if minhash2 is a near neighbor of any element in the LSH Forest\n",
    "    if forest.query(minhash2, k=1):\n",
    "        print(\"The populations are similar.\")\n",
    "    else:\n",
    "        print(\"The populations are not similar.\")"
   ]
  },
  {
   "cell_type": "code",
   "execution_count": 20,
   "metadata": {},
   "outputs": [
    {
     "name": "stdout",
     "output_type": "stream",
     "text": [
      "The populations are similar.\n"
     ]
    }
   ],
   "source": [
    "LSH_forest(p1, p2, 128)"
   ]
  },
  {
   "cell_type": "code",
   "execution_count": 21,
   "metadata": {},
   "outputs": [],
   "source": [
    "def HashMin_order(population):\n",
    "    minhash_seq=MinHash()\n",
    "    for sequence in population:\n",
    "        for index, orientation in enumerate(sequence):\n",
    "            minhash_seq.update((str(orientation) + str(index)).encode('utf-8'))\n",
    "    return minhash_seq"
   ]
  },
  {
   "cell_type": "code",
   "execution_count": 24,
   "metadata": {},
   "outputs": [],
   "source": [
    "# Order of the list elements matters\n",
    "def LSH_forest_order(pop_1, pop_2, n_perm):\n",
    "    minhash1=HashMin_order(pop_1)\n",
    "    minhash2=HashMin_order(pop_2)\n",
    "    # Initialize LSH Forest index\n",
    "    forest = MinHashLSHForest(num_perm=n_perm)\n",
    "\n",
    "    # Add minhash1 to the LSH Forest index\n",
    "    forest.add(\"minhash1\", minhash1)\n",
    "\n",
    "    # Index the LSH Forest\n",
    "    forest.index()\n",
    "\n",
    "    # Check if minhash2 is a near neighbor of any element in the LSH Forest\n",
    "    if forest.query(minhash2, k=1):\n",
    "        print(\"The populations are similar.\")\n",
    "    else:\n",
    "        print(\"The populations are not similar.\")"
   ]
  },
  {
   "cell_type": "code",
   "execution_count": 25,
   "metadata": {},
   "outputs": [
    {
     "name": "stdout",
     "output_type": "stream",
     "text": [
      "The populations are similar.\n"
     ]
    }
   ],
   "source": [
    "LSH_forest_order(p1, p2, 128)"
   ]
  },
  {
   "cell_type": "code",
   "execution_count": 28,
   "metadata": {},
   "outputs": [
    {
     "name": "stdout",
     "output_type": "stream",
     "text": [
      "The populations are similar.\n"
     ]
    }
   ],
   "source": [
    "LSH_forest_order(p1[:10], p2[:10], 128)"
   ]
  },
  {
   "cell_type": "code",
   "execution_count": 26,
   "metadata": {},
   "outputs": [
    {
     "data": {
      "text/plain": [
       "[[-45, 0, 90, -45, 0, 0, 0, 45, 45, -45, 0, 90, 0, -45, 0, 90, 90, 0],\n",
       " [-45, 90, -45, 45, 0, 45, 0, 90, 90, 45, -45, 45, -45, -45, 45, 45, -45, 45],\n",
       " [90, -45, 45, 90, -45, -45, 0, 0, 90, 45, -45, 90, 0, 0, -45, 0, 90, 45],\n",
       " [45, 45, -45, -45, -45, -45, 90, 90, 90, 90, 45, -45, 45, 45, 0, 45, 90, -45],\n",
       " [0, 45, 45, 90, 45, 0, -45, 45, 45, 90, 90, 45, -45, -45, 45, 90, 0, 45],\n",
       " [90, -45, 90, 0, -45, 90, 90, 0, 90, -45, 0, 0, -45, 0, 90, -45, 45, -45],\n",
       " [0, 45, 0, 90, 0, 0, 90, 90, 0, 90, 45, 0, 45, -45, 45, -45, -45, 45],\n",
       " [-45, 45, 45, 45, 0, 45, 45, 0, 45, -45, 90, 90, 90, 45, -45, -45, 0, 45],\n",
       " [0, 0, 0, 45, 45, 45, 45, -45, 45, 90, 45, -45, -45, -45, 0, 90, -45, -45],\n",
       " [0, 90, 0, 0, 90, 90, -45, -45, 90, 0, 0, -45, 0, -45, 45, 90, 45, 90]]"
      ]
     },
     "execution_count": 26,
     "metadata": {},
     "output_type": "execute_result"
    }
   ],
   "source": [
    "p1[:10]"
   ]
  },
  {
   "cell_type": "code",
   "execution_count": 27,
   "metadata": {},
   "outputs": [
    {
     "data": {
      "text/plain": [
       "[[90, 90, 0, 0, -45, 90, 45, -45, 45, 0, 90, 90, 45, 90, 90, 90, -45, 0],\n",
       " [45, -45, 45, 0, 90, 90, 0, 90, 90, -45, 45, -45, 45, 45, 45, 90, 90, 0],\n",
       " [-45, -45, 90, 45, 45, 90, 90, 90, 90, 0, 45, -45, 0, 0, -45, 0, 0, 45],\n",
       " [90, 45, -45, 45, -45, 45, 90, 45, 0, 0, 0, 0, 0, 0, 0, 0, 0, 45],\n",
       " [0, 0, 0, 45, 90, 90, 0, 90, 0, 90, -45, 0, 90, 45, 0, -45, -45, 45],\n",
       " [45, 0, 90, 0, 45, 90, 0, 45, 45, 90, 90, 90, 45, 90, -45, -45, -45, 90],\n",
       " [90, 45, -45, -45, -45, 0, 0, 90, 90, 90, 0, 45, 0, 45, 45, 90, -45, 0],\n",
       " [-45, -45, 90, 90, -45, 45, 90, -45, 90, 0, 0, 0, 90, 90, 45, 0, -45, 45],\n",
       " [90, 45, 90, 90, 45, 90, -45, 90, 0, -45, 45, 45, 0, 90, 0, 0, 90, -45],\n",
       " [45, 45, 0, 0, 45, -45, 90, 45, -45, 45, 90, 0, 0, -45, 45, -45, 90, -45]]"
      ]
     },
     "execution_count": 27,
     "metadata": {},
     "output_type": "execute_result"
    }
   ],
   "source": [
    "p2[:10]"
   ]
  },
  {
   "cell_type": "code",
   "execution_count": 30,
   "metadata": {},
   "outputs": [
    {
     "name": "stdout",
     "output_type": "stream",
     "text": [
      "The Jaccard similarity between population 1 and population 2 is 0.9140625\n"
     ]
    }
   ],
   "source": [
    "h1=HashMin_order(p1[:10])\n",
    "h2=HashMin_order(p2[:10])\n",
    "jaccard_similarity = h1.jaccard(h2)\n",
    "print(f\"The Jaccard similarity between population 1 and population 2 is {jaccard_similarity}\")"
   ]
  }
 ],
 "metadata": {
  "kernelspec": {
   "display_name": "PyPly",
   "language": "python",
   "name": "python3"
  },
  "language_info": {
   "codemirror_mode": {
    "name": "ipython",
    "version": 3
   },
   "file_extension": ".py",
   "mimetype": "text/x-python",
   "name": "python",
   "nbconvert_exporter": "python",
   "pygments_lexer": "ipython3",
   "version": "3.10.9"
  },
  "orig_nbformat": 4,
  "vscode": {
   "interpreter": {
    "hash": "a9bcae0af42d0ab1a27847b6f5f25cc77d23c556a1028bd05a9a4e0592be2ade"
   }
  }
 },
 "nbformat": 4,
 "nbformat_minor": 2
}
